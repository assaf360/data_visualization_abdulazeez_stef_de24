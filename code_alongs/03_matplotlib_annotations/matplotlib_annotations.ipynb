{
 "cells": [
  {
   "cell_type": "markdown",
   "id": "188bf067",
   "metadata": {},
   "source": [
    "# ´matplotlib annotations´"
   ]
  },
  {
   "cell_type": "code",
   "execution_count": 1,
   "id": "a0086071",
   "metadata": {},
   "outputs": [
    {
     "data": {
      "text/html": [
       "<div>\n",
       "<style scoped>\n",
       "    .dataframe tbody tr th:only-of-type {\n",
       "        vertical-align: middle;\n",
       "    }\n",
       "\n",
       "    .dataframe tbody tr th {\n",
       "        vertical-align: top;\n",
       "    }\n",
       "\n",
       "    .dataframe thead th {\n",
       "        text-align: right;\n",
       "    }\n",
       "</style>\n",
       "<table border=\"1\" class=\"dataframe\">\n",
       "  <thead>\n",
       "    <tr style=\"text-align: right;\">\n",
       "      <th></th>\n",
       "      <th>City</th>\n",
       "      <th>State</th>\n",
       "      <th>Error</th>\n",
       "      <th>Total foreign born</th>\n",
       "      <th>Africa</th>\n",
       "      <th>Asia (except China, Japan, and India)</th>\n",
       "      <th>Atlantic Islands</th>\n",
       "      <th>Australia</th>\n",
       "      <th>Austria</th>\n",
       "      <th>Belgium</th>\n",
       "      <th>...</th>\n",
       "      <th>Scotland</th>\n",
       "      <th>South America</th>\n",
       "      <th>Spain</th>\n",
       "      <th>Sweden</th>\n",
       "      <th>Switzerland</th>\n",
       "      <th>Turkey</th>\n",
       "      <th>Wales</th>\n",
       "      <th>West Indies (except Cuba and Puerto Rico)</th>\n",
       "      <th>Other countries</th>\n",
       "      <th>Born at sea</th>\n",
       "    </tr>\n",
       "  </thead>\n",
       "  <tbody>\n",
       "    <tr>\n",
       "      <th>0</th>\n",
       "      <td>Akron</td>\n",
       "      <td>Ohio</td>\n",
       "      <td>0</td>\n",
       "      <td>7,127</td>\n",
       "      <td>4.0</td>\n",
       "      <td>NaN</td>\n",
       "      <td>NaN</td>\n",
       "      <td>1</td>\n",
       "      <td>190</td>\n",
       "      <td>9</td>\n",
       "      <td>...</td>\n",
       "      <td>187</td>\n",
       "      <td>1.0</td>\n",
       "      <td>2</td>\n",
       "      <td>200</td>\n",
       "      <td>258</td>\n",
       "      <td>NaN</td>\n",
       "      <td>226</td>\n",
       "      <td>8</td>\n",
       "      <td>NaN</td>\n",
       "      <td>6.0</td>\n",
       "    </tr>\n",
       "    <tr>\n",
       "      <th>1</th>\n",
       "      <td>Albany</td>\n",
       "      <td>New York</td>\n",
       "      <td>55</td>\n",
       "      <td>17,718</td>\n",
       "      <td>3.0</td>\n",
       "      <td>39.0</td>\n",
       "      <td>4</td>\n",
       "      <td>13</td>\n",
       "      <td>106</td>\n",
       "      <td>13</td>\n",
       "      <td>...</td>\n",
       "      <td>395</td>\n",
       "      <td>1.0</td>\n",
       "      <td>1</td>\n",
       "      <td>65</td>\n",
       "      <td>64</td>\n",
       "      <td>21</td>\n",
       "      <td>80</td>\n",
       "      <td>4</td>\n",
       "      <td>3.0</td>\n",
       "      <td>15.0</td>\n",
       "    </tr>\n",
       "    <tr>\n",
       "      <th>2</th>\n",
       "      <td>Allegheny</td>\n",
       "      <td>Pennsylvania</td>\n",
       "      <td>0</td>\n",
       "      <td>30,216</td>\n",
       "      <td>4.0</td>\n",
       "      <td>5.0</td>\n",
       "      <td>2</td>\n",
       "      <td>8</td>\n",
       "      <td>3,929</td>\n",
       "      <td>10</td>\n",
       "      <td>...</td>\n",
       "      <td>1,183</td>\n",
       "      <td>2.0</td>\n",
       "      <td>2</td>\n",
       "      <td>186</td>\n",
       "      <td>488</td>\n",
       "      <td>4</td>\n",
       "      <td>798</td>\n",
       "      <td>4</td>\n",
       "      <td>3.0</td>\n",
       "      <td>25.0</td>\n",
       "    </tr>\n",
       "    <tr>\n",
       "      <th>3</th>\n",
       "      <td>Allentown</td>\n",
       "      <td>Pennsylvania</td>\n",
       "      <td>3</td>\n",
       "      <td>2,991</td>\n",
       "      <td>NaN</td>\n",
       "      <td>1.0</td>\n",
       "      <td>NaN</td>\n",
       "      <td>2</td>\n",
       "      <td>337</td>\n",
       "      <td>2</td>\n",
       "      <td>...</td>\n",
       "      <td>66</td>\n",
       "      <td>1.0</td>\n",
       "      <td>NaN</td>\n",
       "      <td>5</td>\n",
       "      <td>26</td>\n",
       "      <td>3</td>\n",
       "      <td>40</td>\n",
       "      <td>2</td>\n",
       "      <td>3.0</td>\n",
       "      <td>1.0</td>\n",
       "    </tr>\n",
       "    <tr>\n",
       "      <th>4</th>\n",
       "      <td>Altoona</td>\n",
       "      <td>Pennsylvania</td>\n",
       "      <td>65</td>\n",
       "      <td>3,301</td>\n",
       "      <td>2.0</td>\n",
       "      <td>7.0</td>\n",
       "      <td>NaN</td>\n",
       "      <td>NaN</td>\n",
       "      <td>57</td>\n",
       "      <td>2</td>\n",
       "      <td>...</td>\n",
       "      <td>98</td>\n",
       "      <td>2.0</td>\n",
       "      <td>1</td>\n",
       "      <td>32</td>\n",
       "      <td>55</td>\n",
       "      <td>25</td>\n",
       "      <td>23</td>\n",
       "      <td>1</td>\n",
       "      <td>8.0</td>\n",
       "      <td>4.0</td>\n",
       "    </tr>\n",
       "  </tbody>\n",
       "</table>\n",
       "<p>5 rows × 50 columns</p>\n",
       "</div>"
      ],
      "text/plain": [
       "        City         State  Error Total foreign born  Africa  \\\n",
       "0      Akron          Ohio      0              7,127     4.0   \n",
       "1     Albany      New York     55             17,718     3.0   \n",
       "2  Allegheny  Pennsylvania      0             30,216     4.0   \n",
       "3  Allentown  Pennsylvania      3              2,991     NaN   \n",
       "4    Altoona  Pennsylvania     65              3,301     2.0   \n",
       "\n",
       "   Asia (except China, Japan, and India) Atlantic Islands Australia Austria  \\\n",
       "0                                    NaN              NaN         1     190   \n",
       "1                                   39.0                4        13     106   \n",
       "2                                    5.0                2         8   3,929   \n",
       "3                                    1.0              NaN         2     337   \n",
       "4                                    7.0              NaN       NaN      57   \n",
       "\n",
       "  Belgium  ... Scotland South America Spain  Sweden Switzerland Turkey Wales  \\\n",
       "0       9  ...      187           1.0     2     200         258    NaN   226   \n",
       "1      13  ...      395           1.0     1      65          64     21    80   \n",
       "2      10  ...    1,183           2.0     2     186         488      4   798   \n",
       "3       2  ...       66           1.0   NaN       5          26      3    40   \n",
       "4       2  ...       98           2.0     1      32          55     25    23   \n",
       "\n",
       "  West Indies (except Cuba and Puerto Rico)  Other countries Born at sea  \n",
       "0                                         8              NaN         6.0  \n",
       "1                                         4              3.0        15.0  \n",
       "2                                         4              3.0        25.0  \n",
       "3                                         2              3.0         1.0  \n",
       "4                                         1              8.0         4.0  \n",
       "\n",
       "[5 rows x 50 columns]"
      ]
     },
     "execution_count": 1,
     "metadata": {},
     "output_type": "execute_result"
    }
   ],
   "source": [
    "import pandas as pd\n",
    "import duckdb\n",
    "\n",
    "df = pd.read_csv(\"data/1900-census-immigrant-pop-metro.csv\")\n",
    "\n",
    "df.head()"
   ]
  },
  {
   "cell_type": "code",
   "execution_count": 2,
   "id": "e3232f5a",
   "metadata": {},
   "outputs": [
    {
     "name": "stdout",
     "output_type": "stream",
     "text": [
      "<class 'pandas.core.frame.DataFrame'>\n",
      "RangeIndex: 161 entries, 0 to 160\n",
      "Data columns (total 50 columns):\n",
      " #   Column                                       Non-Null Count  Dtype  \n",
      "---  ------                                       --------------  -----  \n",
      " 0   City                                         161 non-null    object \n",
      " 1   State                                        161 non-null    object \n",
      " 2   Error                                        161 non-null    int64  \n",
      " 3   Total foreign born                           161 non-null    object \n",
      " 4   Africa                                       120 non-null    float64\n",
      " 5   Asia (except China, Japan, and India)        133 non-null    float64\n",
      " 6   Atlantic Islands                             99 non-null     object \n",
      " 7   Australia                                    136 non-null    object \n",
      " 8   Austria                                      161 non-null    object \n",
      " 9   Belgium                                      145 non-null    object \n",
      " 10  Bohemia                                      144 non-null    object \n",
      " 11  Canada (English)                             161 non-null    object \n",
      " 12  Canada (French)                              160 non-null    object \n",
      " 13  Central America                              98 non-null     float64\n",
      " 14  China                                        156 non-null    object \n",
      " 15  Cuba                                         124 non-null    object \n",
      " 16  Denmark                                      157 non-null    object \n",
      " 17  England                                      161 non-null    object \n",
      " 18  Europe (not otherwise specified)             82 non-null     float64\n",
      " 19  Finland                                      120 non-null    object \n",
      " 20  France                                       161 non-null    object \n",
      " 21  Germany                                      161 non-null    object \n",
      " 22  Greece                                       131 non-null    object \n",
      " 23  Holland                                      152 non-null    object \n",
      " 24  Hungary                                      155 non-null    object \n",
      " 25  India                                        117 non-null    float64\n",
      " 26  Ireland                                      161 non-null    object \n",
      " 27  Italy                                        161 non-null    object \n",
      " 28  Japan                                        75 non-null     object \n",
      " 29  Luxemburg                                    53 non-null     float64\n",
      " 30  Mexico                                       111 non-null    object \n",
      " 31  Norway                                       159 non-null    object \n",
      " 32  Pacific Islands (except Phillipine Islands)  85 non-null     float64\n",
      " 33  Poland (Austrian)                            126 non-null    object \n",
      " 34  Poland (German)                              133 non-null    object \n",
      " 35  Poland (Russian)                             159 non-null    object \n",
      " 36  Poland (unknown)                             148 non-null    object \n",
      " 37  Portugal                                     85 non-null     object \n",
      " 38  Roumania                                     102 non-null    object \n",
      " 39  Russia                                       161 non-null    object \n",
      " 40  Scotland                                     161 non-null    object \n",
      " 41  South America                                135 non-null    float64\n",
      " 42  Spain                                        124 non-null    object \n",
      " 43  Sweden                                       161 non-null    object \n",
      " 44  Switzerland                                  160 non-null    object \n",
      " 45  Turkey                                       132 non-null    object \n",
      " 46  Wales                                        161 non-null    object \n",
      " 47  West Indies (except Cuba and Puerto Rico)    135 non-null    object \n",
      " 48  Other countries                              113 non-null    float64\n",
      " 49  Born at sea                                  160 non-null    float64\n",
      "dtypes: float64(10), int64(1), object(39)\n",
      "memory usage: 63.0+ KB\n"
     ]
    }
   ],
   "source": [
    "df.info()"
   ]
  },
  {
   "cell_type": "code",
   "execution_count": 3,
   "id": "3b4ed980",
   "metadata": {},
   "outputs": [
    {
     "data": {
      "text/plain": [
       "'7,127'"
      ]
     },
     "execution_count": 3,
     "metadata": {},
     "output_type": "execute_result"
    }
   ],
   "source": [
    "df[\"Total foreign born\"].iloc[0]"
   ]
  },
  {
   "cell_type": "code",
   "execution_count": 10,
   "id": "23706bde",
   "metadata": {},
   "outputs": [
    {
     "data": {
      "text/html": [
       "<div>\n",
       "<style scoped>\n",
       "    .dataframe tbody tr th:only-of-type {\n",
       "        vertical-align: middle;\n",
       "    }\n",
       "\n",
       "    .dataframe tbody tr th {\n",
       "        vertical-align: top;\n",
       "    }\n",
       "\n",
       "    .dataframe thead th {\n",
       "        text-align: right;\n",
       "    }\n",
       "</style>\n",
       "<table border=\"1\" class=\"dataframe\">\n",
       "  <thead>\n",
       "    <tr style=\"text-align: right;\">\n",
       "      <th></th>\n",
       "      <th>Sweden</th>\n",
       "      <th>Norway</th>\n",
       "      <th>Finland</th>\n",
       "      <th>Denmark</th>\n",
       "      <th>Total foreign born</th>\n",
       "    </tr>\n",
       "  </thead>\n",
       "  <tbody>\n",
       "    <tr>\n",
       "      <th>0</th>\n",
       "      <td>200</td>\n",
       "      <td>59</td>\n",
       "      <td>1</td>\n",
       "      <td>105</td>\n",
       "      <td>7,127</td>\n",
       "    </tr>\n",
       "    <tr>\n",
       "      <th>1</th>\n",
       "      <td>65</td>\n",
       "      <td>12</td>\n",
       "      <td>3</td>\n",
       "      <td>21</td>\n",
       "      <td>17,718</td>\n",
       "    </tr>\n",
       "    <tr>\n",
       "      <th>2</th>\n",
       "      <td>186</td>\n",
       "      <td>9</td>\n",
       "      <td>5</td>\n",
       "      <td>15</td>\n",
       "      <td>30,216</td>\n",
       "    </tr>\n",
       "    <tr>\n",
       "      <th>3</th>\n",
       "      <td>5</td>\n",
       "      <td>2</td>\n",
       "      <td>NaN</td>\n",
       "      <td>5</td>\n",
       "      <td>2,991</td>\n",
       "    </tr>\n",
       "    <tr>\n",
       "      <th>4</th>\n",
       "      <td>32</td>\n",
       "      <td>4</td>\n",
       "      <td>3</td>\n",
       "      <td>5</td>\n",
       "      <td>3,301</td>\n",
       "    </tr>\n",
       "    <tr>\n",
       "      <th>...</th>\n",
       "      <td>...</td>\n",
       "      <td>...</td>\n",
       "      <td>...</td>\n",
       "      <td>...</td>\n",
       "      <td>...</td>\n",
       "    </tr>\n",
       "    <tr>\n",
       "      <th>156</th>\n",
       "      <td>45</td>\n",
       "      <td>2</td>\n",
       "      <td>52</td>\n",
       "      <td>3</td>\n",
       "      <td>12,518</td>\n",
       "    </tr>\n",
       "    <tr>\n",
       "      <th>157</th>\n",
       "      <td>7,542</td>\n",
       "      <td>269</td>\n",
       "      <td>1,143</td>\n",
       "      <td>153</td>\n",
       "      <td>37,652</td>\n",
       "    </tr>\n",
       "    <tr>\n",
       "      <th>158</th>\n",
       "      <td>289</td>\n",
       "      <td>46</td>\n",
       "      <td>6</td>\n",
       "      <td>81</td>\n",
       "      <td>14,634</td>\n",
       "    </tr>\n",
       "    <tr>\n",
       "      <th>159</th>\n",
       "      <td>10</td>\n",
       "      <td>1</td>\n",
       "      <td>NaN</td>\n",
       "      <td>NaN</td>\n",
       "      <td>1,304</td>\n",
       "    </tr>\n",
       "    <tr>\n",
       "      <th>160</th>\n",
       "      <td>343</td>\n",
       "      <td>14</td>\n",
       "      <td>28</td>\n",
       "      <td>27</td>\n",
       "      <td>12,207</td>\n",
       "    </tr>\n",
       "  </tbody>\n",
       "</table>\n",
       "<p>161 rows × 5 columns</p>\n",
       "</div>"
      ],
      "text/plain": [
       "    Sweden Norway Finland Denmark Total foreign born\n",
       "0      200     59       1     105              7,127\n",
       "1       65     12       3      21             17,718\n",
       "2      186      9       5      15             30,216\n",
       "3        5      2     NaN       5              2,991\n",
       "4       32      4       3       5              3,301\n",
       "..     ...    ...     ...     ...                ...\n",
       "156     45      2      52       3             12,518\n",
       "157  7,542    269   1,143     153             37,652\n",
       "158    289     46       6      81             14,634\n",
       "159     10      1     NaN     NaN              1,304\n",
       "160    343     14      28      27             12,207\n",
       "\n",
       "[161 rows x 5 columns]"
      ]
     },
     "execution_count": 10,
     "metadata": {},
     "output_type": "execute_result"
    }
   ],
   "source": [
    "df_nordic = df[[\"Sweden\", \"Norway\", \"Finland\", \"Denmark\", \"Total foreign born\"]]\n",
    "df_nordic"
   ]
  },
  {
   "cell_type": "code",
   "execution_count": 13,
   "id": "08553ef0",
   "metadata": {},
   "outputs": [
    {
     "data": {
      "text/html": [
       "<div>\n",
       "<style scoped>\n",
       "    .dataframe tbody tr th:only-of-type {\n",
       "        vertical-align: middle;\n",
       "    }\n",
       "\n",
       "    .dataframe tbody tr th {\n",
       "        vertical-align: top;\n",
       "    }\n",
       "\n",
       "    .dataframe thead th {\n",
       "        text-align: right;\n",
       "    }\n",
       "</style>\n",
       "<table border=\"1\" class=\"dataframe\">\n",
       "  <thead>\n",
       "    <tr style=\"text-align: right;\">\n",
       "      <th></th>\n",
       "      <th>Sweden</th>\n",
       "      <th>Norway</th>\n",
       "      <th>Finland</th>\n",
       "      <th>Denmark</th>\n",
       "      <th>Total foreign born</th>\n",
       "    </tr>\n",
       "  </thead>\n",
       "  <tbody>\n",
       "    <tr>\n",
       "      <th>0</th>\n",
       "      <td>200</td>\n",
       "      <td>59</td>\n",
       "      <td>1</td>\n",
       "      <td>105</td>\n",
       "      <td>7,127</td>\n",
       "    </tr>\n",
       "    <tr>\n",
       "      <th>1</th>\n",
       "      <td>65</td>\n",
       "      <td>12</td>\n",
       "      <td>3</td>\n",
       "      <td>21</td>\n",
       "      <td>17,718</td>\n",
       "    </tr>\n",
       "    <tr>\n",
       "      <th>2</th>\n",
       "      <td>186</td>\n",
       "      <td>9</td>\n",
       "      <td>5</td>\n",
       "      <td>15</td>\n",
       "      <td>30,216</td>\n",
       "    </tr>\n",
       "    <tr>\n",
       "      <th>3</th>\n",
       "      <td>5</td>\n",
       "      <td>2</td>\n",
       "      <td>NaN</td>\n",
       "      <td>5</td>\n",
       "      <td>2,991</td>\n",
       "    </tr>\n",
       "    <tr>\n",
       "      <th>4</th>\n",
       "      <td>32</td>\n",
       "      <td>4</td>\n",
       "      <td>3</td>\n",
       "      <td>5</td>\n",
       "      <td>3,301</td>\n",
       "    </tr>\n",
       "  </tbody>\n",
       "</table>\n",
       "</div>"
      ],
      "text/plain": [
       "  Sweden Norway Finland Denmark Total foreign born\n",
       "0    200     59       1     105              7,127\n",
       "1     65     12       3      21             17,718\n",
       "2    186      9       5      15             30,216\n",
       "3      5      2     NaN       5              2,991\n",
       "4     32      4       3       5              3,301"
      ]
     },
     "execution_count": 13,
     "metadata": {},
     "output_type": "execute_result"
    }
   ],
   "source": [
    "columns = [\"Sweden\", \"Norway\", \"Finland\", \"Denmark\", \"Total foreign born\"]\n",
    "\n",
    "df_nordic = df[columns]\n",
    "df_nordic.head()"
   ]
  },
  {
   "cell_type": "code",
   "execution_count": 14,
   "id": "e30b6246",
   "metadata": {},
   "outputs": [
    {
     "name": "stderr",
     "output_type": "stream",
     "text": [
      "C:\\Users\\azizm\\AppData\\Local\\Temp\\ipykernel_5708\\3514587597.py:2: SettingWithCopyWarning: \n",
      "A value is trying to be set on a copy of a slice from a DataFrame.\n",
      "Try using .loc[row_indexer,col_indexer] = value instead\n",
      "\n",
      "See the caveats in the documentation: https://pandas.pydata.org/pandas-docs/stable/user_guide/indexing.html#returning-a-view-versus-a-copy\n",
      "  df_nordic[column] = df_nordic[column].str.replace(\",\", \"\")\n"
     ]
    },
    {
     "data": {
      "text/html": [
       "<div>\n",
       "<style scoped>\n",
       "    .dataframe tbody tr th:only-of-type {\n",
       "        vertical-align: middle;\n",
       "    }\n",
       "\n",
       "    .dataframe tbody tr th {\n",
       "        vertical-align: top;\n",
       "    }\n",
       "\n",
       "    .dataframe thead th {\n",
       "        text-align: right;\n",
       "    }\n",
       "</style>\n",
       "<table border=\"1\" class=\"dataframe\">\n",
       "  <thead>\n",
       "    <tr style=\"text-align: right;\">\n",
       "      <th></th>\n",
       "      <th>Sweden</th>\n",
       "      <th>Norway</th>\n",
       "      <th>Finland</th>\n",
       "      <th>Denmark</th>\n",
       "      <th>Total foreign born</th>\n",
       "    </tr>\n",
       "  </thead>\n",
       "  <tbody>\n",
       "    <tr>\n",
       "      <th>0</th>\n",
       "      <td>200</td>\n",
       "      <td>59</td>\n",
       "      <td>1</td>\n",
       "      <td>105</td>\n",
       "      <td>7127</td>\n",
       "    </tr>\n",
       "    <tr>\n",
       "      <th>1</th>\n",
       "      <td>65</td>\n",
       "      <td>12</td>\n",
       "      <td>3</td>\n",
       "      <td>21</td>\n",
       "      <td>17718</td>\n",
       "    </tr>\n",
       "    <tr>\n",
       "      <th>2</th>\n",
       "      <td>186</td>\n",
       "      <td>9</td>\n",
       "      <td>5</td>\n",
       "      <td>15</td>\n",
       "      <td>30216</td>\n",
       "    </tr>\n",
       "    <tr>\n",
       "      <th>3</th>\n",
       "      <td>5</td>\n",
       "      <td>2</td>\n",
       "      <td>NaN</td>\n",
       "      <td>5</td>\n",
       "      <td>2991</td>\n",
       "    </tr>\n",
       "    <tr>\n",
       "      <th>4</th>\n",
       "      <td>32</td>\n",
       "      <td>4</td>\n",
       "      <td>3</td>\n",
       "      <td>5</td>\n",
       "      <td>3301</td>\n",
       "    </tr>\n",
       "    <tr>\n",
       "      <th>...</th>\n",
       "      <td>...</td>\n",
       "      <td>...</td>\n",
       "      <td>...</td>\n",
       "      <td>...</td>\n",
       "      <td>...</td>\n",
       "    </tr>\n",
       "    <tr>\n",
       "      <th>156</th>\n",
       "      <td>45</td>\n",
       "      <td>2</td>\n",
       "      <td>52</td>\n",
       "      <td>3</td>\n",
       "      <td>12518</td>\n",
       "    </tr>\n",
       "    <tr>\n",
       "      <th>157</th>\n",
       "      <td>7542</td>\n",
       "      <td>269</td>\n",
       "      <td>1143</td>\n",
       "      <td>153</td>\n",
       "      <td>37652</td>\n",
       "    </tr>\n",
       "    <tr>\n",
       "      <th>158</th>\n",
       "      <td>289</td>\n",
       "      <td>46</td>\n",
       "      <td>6</td>\n",
       "      <td>81</td>\n",
       "      <td>14634</td>\n",
       "    </tr>\n",
       "    <tr>\n",
       "      <th>159</th>\n",
       "      <td>10</td>\n",
       "      <td>1</td>\n",
       "      <td>NaN</td>\n",
       "      <td>NaN</td>\n",
       "      <td>1304</td>\n",
       "    </tr>\n",
       "    <tr>\n",
       "      <th>160</th>\n",
       "      <td>343</td>\n",
       "      <td>14</td>\n",
       "      <td>28</td>\n",
       "      <td>27</td>\n",
       "      <td>12207</td>\n",
       "    </tr>\n",
       "  </tbody>\n",
       "</table>\n",
       "<p>161 rows × 5 columns</p>\n",
       "</div>"
      ],
      "text/plain": [
       "    Sweden Norway Finland Denmark Total foreign born\n",
       "0      200     59       1     105               7127\n",
       "1       65     12       3      21              17718\n",
       "2      186      9       5      15              30216\n",
       "3        5      2     NaN       5               2991\n",
       "4       32      4       3       5               3301\n",
       "..     ...    ...     ...     ...                ...\n",
       "156     45      2      52       3              12518\n",
       "157   7542    269    1143     153              37652\n",
       "158    289     46       6      81              14634\n",
       "159     10      1     NaN     NaN               1304\n",
       "160    343     14      28      27              12207\n",
       "\n",
       "[161 rows x 5 columns]"
      ]
     },
     "execution_count": 14,
     "metadata": {},
     "output_type": "execute_result"
    }
   ],
   "source": [
    "for column in columns:\n",
    "    df_nordic[column] = df_nordic[column].str.replace(\",\", \"\")\n",
    "\n",
    "df_nordic"
   ]
  },
  {
   "cell_type": "code",
   "execution_count": 15,
   "id": "bbc4b248",
   "metadata": {},
   "outputs": [],
   "source": [
    "import pandas as pd \n",
    "import duckdb\n",
    "\n",
    "df = pd.read_csv(\"data/1900-census-immigrant-pop-metro.csv\")\n",
    "\n",
    "columns = [\"Sweden\", \"Norway\", \"Finland\", \"Denmark\", \"Total foreign born\"]\n",
    "\n",
    "df_nordic = df[columns]\n",
    "\n",
    "df_nordic = df_nordic.fillna(\"0\")\n",
    "\n",
    "for column in columns:\n",
    "    df[column] = df_nordic[column].str.replace(\",\", \"\").astype(int)"
   ]
  },
  {
   "cell_type": "code",
   "execution_count": 25,
   "id": "c0a88aa3",
   "metadata": {},
   "outputs": [
    {
     "data": {
      "text/html": [
       "<div>\n",
       "<style scoped>\n",
       "    .dataframe tbody tr th:only-of-type {\n",
       "        vertical-align: middle;\n",
       "    }\n",
       "\n",
       "    .dataframe tbody tr th {\n",
       "        vertical-align: top;\n",
       "    }\n",
       "\n",
       "    .dataframe thead th {\n",
       "        text-align: right;\n",
       "    }\n",
       "</style>\n",
       "<table border=\"1\" class=\"dataframe\">\n",
       "  <thead>\n",
       "    <tr style=\"text-align: right;\">\n",
       "      <th></th>\n",
       "      <th>State</th>\n",
       "      <th>Total foreigners</th>\n",
       "      <th>swedes</th>\n",
       "      <th>norwegians</th>\n",
       "      <th>danish</th>\n",
       "      <th>finnish</th>\n",
       "      <th>nordic</th>\n",
       "    </tr>\n",
       "  </thead>\n",
       "  <tbody>\n",
       "    <tr>\n",
       "      <th>0</th>\n",
       "      <td>Illinois</td>\n",
       "      <td>627465.0</td>\n",
       "      <td>57158.0</td>\n",
       "      <td>22300.0</td>\n",
       "      <td>10374.0</td>\n",
       "      <td>447.0</td>\n",
       "      <td>90279.0</td>\n",
       "    </tr>\n",
       "    <tr>\n",
       "      <th>1</th>\n",
       "      <td>Minnesota</td>\n",
       "      <td>128823.0</td>\n",
       "      <td>34984.0</td>\n",
       "      <td>17087.0</td>\n",
       "      <td>2975.0</td>\n",
       "      <td>1101.0</td>\n",
       "      <td>56147.0</td>\n",
       "    </tr>\n",
       "    <tr>\n",
       "      <th>2</th>\n",
       "      <td>New York</td>\n",
       "      <td>1521931.0</td>\n",
       "      <td>29961.0</td>\n",
       "      <td>11752.0</td>\n",
       "      <td>6186.0</td>\n",
       "      <td>3764.0</td>\n",
       "      <td>51663.0</td>\n",
       "    </tr>\n",
       "    <tr>\n",
       "      <th>3</th>\n",
       "      <td>Massachusetts</td>\n",
       "      <td>567170.0</td>\n",
       "      <td>21971.0</td>\n",
       "      <td>2366.0</td>\n",
       "      <td>1451.0</td>\n",
       "      <td>3154.0</td>\n",
       "      <td>28942.0</td>\n",
       "    </tr>\n",
       "    <tr>\n",
       "      <th>4</th>\n",
       "      <td>Wisconsin</td>\n",
       "      <td>124230.0</td>\n",
       "      <td>4034.0</td>\n",
       "      <td>6485.0</td>\n",
       "      <td>4024.0</td>\n",
       "      <td>405.0</td>\n",
       "      <td>14948.0</td>\n",
       "    </tr>\n",
       "  </tbody>\n",
       "</table>\n",
       "</div>"
      ],
      "text/plain": [
       "           State  Total foreigners   swedes  norwegians   danish  finnish  \\\n",
       "0       Illinois          627465.0  57158.0     22300.0  10374.0    447.0   \n",
       "1      Minnesota          128823.0  34984.0     17087.0   2975.0   1101.0   \n",
       "2       New York         1521931.0  29961.0     11752.0   6186.0   3764.0   \n",
       "3  Massachusetts          567170.0  21971.0      2366.0   1451.0   3154.0   \n",
       "4      Wisconsin          124230.0   4034.0      6485.0   4024.0    405.0   \n",
       "\n",
       "    nordic  \n",
       "0  90279.0  \n",
       "1  56147.0  \n",
       "2  51663.0  \n",
       "3  28942.0  \n",
       "4  14948.0  "
      ]
     },
     "execution_count": 25,
     "metadata": {},
     "output_type": "execute_result"
    }
   ],
   "source": [
    "df_nordic = duckdb.query(\n",
    "    \"\"\"\n",
    "    WITH nordic AS (\n",
    "        SELECT     \n",
    "            state,\n",
    "            SUM(\"Total foreign born\") AS \"Total foreigners\",\n",
    "            SUM(sweden) AS swedes,\n",
    "            SUM(norway) AS norwegians,\n",
    "            SUM(denmark) AS danish,\n",
    "            SUM(finland) AS finnish\n",
    "        FROM df\n",
    "        GROUP BY state\n",
    "    )\n",
    "    SELECT *, \n",
    "           swedes + norwegians + danish + finnish AS nordic\n",
    "    FROM nordic\n",
    "    ORDER BY nordic DESC\n",
    "    \"\"\"\n",
    ").df()\n",
    "\n",
    "df_nordic.head()\n"
   ]
  },
  {
   "cell_type": "markdown",
   "id": "0d003317",
   "metadata": {},
   "source": [
    "TODO for reader:\n",
    "- more visualizations on Nordic\n",
    "- more visualizations on Total forigners\n",
    "- ex bar charts for different states\n",
    "- compoare norsic to total foreigners"
   ]
  },
  {
   "cell_type": "code",
   "execution_count": 26,
   "id": "01b1103a",
   "metadata": {},
   "outputs": [
    {
     "data": {
      "text/plain": [
       "(39, 7)"
      ]
     },
     "execution_count": 26,
     "metadata": {},
     "output_type": "execute_result"
    }
   ],
   "source": [
    "df_nordic.shape"
   ]
  },
  {
   "cell_type": "code",
   "execution_count": 54,
   "id": "c05917a4",
   "metadata": {},
   "outputs": [
    {
     "name": "stdout",
     "output_type": "stream",
     "text": [
      "            swedes  norwegians   danish  finnish\n",
      "State                                           \n",
      "Illinois   57158.0     22300.0  10374.0    447.0\n",
      "Minnesota  34984.0     17087.0   2975.0   1101.0\n",
      "New York   29961.0     11752.0   6186.0   3764.0\n"
     ]
    },
    {
     "data": {
      "image/png": "[encoded data removed]",
      "text/plain": [
       "<Figure size 1200x600 with 1 Axes>"
      ]
     },
     "metadata": {},
     "output_type": "display_data"
    }
   ],
   "source": [
    "import matplotlib.pyplot as plt\n",
    "\n",
    "df_nordic['nordic'] = df_nordic['swedes'] + df_nordic['norwegians'] + df_nordic['danish'] + df_nordic['finnish']\n",
    "\n",
    "df_nordic['Total foreigners'] = df_nordic['nordic'] \n",
    "\n",
    "df_nordic = df_nordic.drop(columns=[\"Total foreigners\", \"nordic\"])\n",
    "\n",
    "top_3_nordic = df_nordic.set_index(\"State\").iloc[:3]\n",
    "\n",
    "print(top_3_nordic)\n",
    "\n",
    "plt.figure(figsize=(12, 6))\n",
    "plt.bar(df_nordic.index, df_nordic['swedes'] + df_nordic['norwegians'] + df_nordic['danish'] + df_nordic['finnish'], color='lightblue')\n",
    "plt.xlabel('State')\n",
    "plt.ylabel('Total Nordic Population')\n",
    "plt.title('Total Nordic Population per State')\n",
    "plt.xticks(rotation=45)\n",
    "plt.tight_layout()\n",
    "plt.show()\n"
   ]
  },
  {
   "cell_type": "code",
   "execution_count": 60,
   "id": "ca959b5d",
   "metadata": {},
   "outputs": [
    {
     "data": {
      "text/plain": [
       "(<Figure size 1200x600 with 1 Axes>, <Axes: xlabel='State'>)"
      ]
     },
     "execution_count": 60,
     "metadata": {},
     "output_type": "execute_result"
    },
    {
     "data": {
      "image/png": "[encoded data removed]",
      "text/plain": [
       "<Figure size 1200x600 with 1 Axes>"
      ]
     },
     "metadata": {},
     "output_type": "display_data"
    }
   ],
   "source": [
    "def nordic_plot():\n",
    "    ax = top_3_nordic.plot(kind = \"bar\", figsize=(12,6))\n",
    "    ax.set_xticklabels(top_3_nordic.index, rotation = 0)\n",
    "\n",
    "    fig = ax.get_figure()\n",
    "\n",
    "    return fig, ax\n",
    "\n",
    "nordic_plot()"
   ]
  },
  {
   "cell_type": "code",
   "execution_count": 61,
   "id": "ca22f5fa",
   "metadata": {},
   "outputs": [
    {
     "data": {
      "text/plain": [
       "[<BarContainer object of 3 artists>,\n",
       " <BarContainer object of 3 artists>,\n",
       " <BarContainer object of 3 artists>,\n",
       " <BarContainer object of 3 artists>]"
      ]
     },
     "execution_count": 61,
     "metadata": {},
     "output_type": "execute_result"
    },
    {
     "data": {
      "image/png": "[encoded data removed]",
      "text/plain": [
       "<Figure size 1200x600 with 1 Axes>"
      ]
     },
     "metadata": {},
     "output_type": "display_data"
    }
   ],
   "source": [
    "fig, ax = nordic_plot()\n",
    "\n",
    "ax.containers"
   ]
  },
  {
   "cell_type": "code",
   "execution_count": 62,
   "id": "fef07681",
   "metadata": {},
   "outputs": [
    {
     "data": {
      "text/plain": [
       "<BarContainer object of 3 artists>"
      ]
     },
     "execution_count": 62,
     "metadata": {},
     "output_type": "execute_result"
    }
   ],
   "source": [
    "ax.containers[0]"
   ]
  },
  {
   "cell_type": "code",
   "execution_count": 63,
   "id": "8d809424",
   "metadata": {},
   "outputs": [
    {
     "data": {
      "text/plain": [
       "<matplotlib.patches.Rectangle at 0x1c8e2828e10>"
      ]
     },
     "execution_count": 63,
     "metadata": {},
     "output_type": "execute_result"
    }
   ],
   "source": [
    "ax.containers[0][0]"
   ]
  },
  {
   "cell_type": "code",
   "execution_count": 65,
   "id": "590d70e6",
   "metadata": {},
   "outputs": [
    {
     "data": {
      "text/plain": [
       "(np.float64(34984.0), np.float64(0.75))"
      ]
     },
     "execution_count": 65,
     "metadata": {},
     "output_type": "execute_result"
    }
   ],
   "source": [
    "ax.containers[0][1].get_height(), ax.containers[0][1].get_x()"
   ]
  },
  {
   "cell_type": "markdown",
   "id": "42651e78",
   "metadata": {},
   "source": [
    "## Annotate"
   ]
  },
  {
   "cell_type": "code",
   "execution_count": 69,
   "id": "c0374070",
   "metadata": {},
   "outputs": [
    {
     "data": {
      "text/plain": [
       "<Axes: xlabel='State'>"
      ]
     },
     "execution_count": 69,
     "metadata": {},
     "output_type": "execute_result"
    }
   ],
   "source": [
    "ax"
   ]
  },
  {
   "cell_type": "code",
   "execution_count": 71,
   "id": "e57c5a97",
   "metadata": {},
   "outputs": [
    {
     "data": {
      "text/plain": [
       "Text(0.75, 40000, 'Swedes')"
      ]
     },
     "execution_count": 71,
     "metadata": {},
     "output_type": "execute_result"
    },
    {
     "data": {
      "image/png": "[encoded data removed]",
      "text/plain": [
       "<Figure size 1200x600 with 1 Axes>"
      ]
     },
     "metadata": {},
     "output_type": "display_data"
    }
   ],
   "source": [
    "fig, ax = nordic_plot()\n",
    "\n",
    "ax.annotate(text = \"Swedes\", xy = (0.75,40000))"
   ]
  },
  {
   "cell_type": "code",
   "execution_count": 78,
   "id": "262d7c45",
   "metadata": {},
   "outputs": [
    {
     "data": {
      "text/plain": [
       "Text(0.8, 42000, 'Swedes')"
      ]
     },
     "execution_count": 78,
     "metadata": {},
     "output_type": "execute_result"
    },
    {
     "data": {
      "image/png": "[encoded data removed]",
      "text/plain": [
       "<Figure size 1200x600 with 1 Axes>"
      ]
     },
     "metadata": {},
     "output_type": "display_data"
    }
   ],
   "source": [
    "fig, ax = nordic_plot()\n",
    "\n",
    "arrowprops = dict(arrowstyle = \"->\", linewidth = 2, connectionstyle = \"arc3, rad=.3\")\n",
    "ax.annotate(text = \"Swedes\", xy = (0.8,35000), arrowprops=arrowprops, xytext=(.8, 42000))"
   ]
  },
  {
   "cell_type": "code",
   "execution_count": 102,
   "id": "c7928c7a",
   "metadata": {},
   "outputs": [
    {
     "data": {
      "image/png": "[encoded data removed]",
      "text/plain": [
       "<Figure size 1200x600 with 1 Axes>"
      ]
     },
     "metadata": {},
     "output_type": "display_data"
    }
   ],
   "source": [
    "fig, ax = nordic_plot()\n",
    "\n",
    "swede_bars, norwegian_bars, danish_bars, finnish_bars = ax.containers\n",
    "\n",
    "def annotate_nordic(bar_artist, text, x_offset=0, y_offset=0):\n",
    "    xy = (bar_artist.get_x(), bar_artist.get_height())\n",
    "\n",
    "    xy = (bar_artist.get_x(), bar_artist.get_height())\n",
    "    \n",
    "    arrowprops = dict(arrowstyle=\"->\", linewidth=2, connectionstyle=\"arc3, rad=.3\")\n",
    "    \n",
    "    ax.annotate(\n",
    "        text=text,\n",
    "        xy=(xy[0] + 0.06, xy[1]),\n",
    "        arrowprops=arrowprops,\n",
    "        xytext=(xy[0] + x_offset, xy[1] + y_offset)\n",
    "    )\n",
    "\n",
    "annotate_nordic(swede_bars[1], \"Swedes\", x_offset=0, y_offset=7000)\n",
    "annotate_nordic(norwegian_bars[0], \"Norwegians\",x_offset=0, y_offset=5000)\n",
    "\n",
    "\n",
    "plt.show()\n"
   ]
  }
 ],
 "metadata": {
  "kernelspec": {
   "display_name": ".venv",
   "language": "python",
   "name": "python3"
  },
  "language_info": {
   "codemirror_mode": {
    "name": "ipython",
    "version": 3
   },
   "file_extension": ".py",
   "mimetype": "text/x-python",
   "name": "python",
   "nbconvert_exporter": "python",
   "pygments_lexer": "ipython3",
   "version": "3.13.2"
  }
 },
 "nbformat": 4,
 "nbformat_minor": 5
}
