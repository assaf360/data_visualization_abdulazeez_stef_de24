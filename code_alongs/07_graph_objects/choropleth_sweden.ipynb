{
 "cells": [
  {
   "cell_type": "markdown",
   "id": "32196602",
   "metadata": {},
   "source": [
    "# Choropleth map"
   ]
  },
  {
   "cell_type": "code",
   "execution_count": 13,
   "id": "38da0753",
   "metadata": {},
   "outputs": [
    {
     "name": "stdout",
     "output_type": "stream",
     "text": [
      "3.1.5\n"
     ]
    }
   ],
   "source": [
    "import openpyxl\n",
    "print(openpyxl.__version__)\n"
   ]
  },
  {
   "cell_type": "code",
   "execution_count": 15,
   "id": "382eebdf",
   "metadata": {},
   "outputs": [
    {
     "data": {
      "text/html": [
       "<div>\n",
       "<style scoped>\n",
       "    .dataframe tbody tr th:only-of-type {\n",
       "        vertical-align: middle;\n",
       "    }\n",
       "\n",
       "    .dataframe tbody tr th {\n",
       "        vertical-align: top;\n",
       "    }\n",
       "\n",
       "    .dataframe thead th {\n",
       "        text-align: right;\n",
       "    }\n",
       "</style>\n",
       "<table border=\"1\" class=\"dataframe\">\n",
       "  <thead>\n",
       "    <tr style=\"text-align: right;\">\n",
       "      <th></th>\n",
       "      <th>Utbildningsområde</th>\n",
       "      <th>SUN5 inriktning</th>\n",
       "      <th>SUN5 inriktning namn</th>\n",
       "      <th>Utbildningsnamn</th>\n",
       "      <th>Beslut</th>\n",
       "      <th>Diarienummer</th>\n",
       "      <th>Flera kommuner</th>\n",
       "      <th>Antal kommuner</th>\n",
       "      <th>Län</th>\n",
       "      <th>Kommun</th>\n",
       "      <th>...</th>\n",
       "      <th>Sökta utbildningsomgångar</th>\n",
       "      <th>Beviljade utbildningsomgångar</th>\n",
       "      <th>Sökta platser per utbildningsomgång</th>\n",
       "      <th>Sökta platser totalt</th>\n",
       "      <th>Beviljade platser utbildningsomgång 1</th>\n",
       "      <th>Beviljade platser utbildningsomgång 2</th>\n",
       "      <th>Beviljade platser utbildningsomgång 3</th>\n",
       "      <th>Beviljade platser utbildningsomgång 4</th>\n",
       "      <th>Beviljade platser utbildningsomgång 5</th>\n",
       "      <th>Beviljade platser totalt</th>\n",
       "    </tr>\n",
       "  </thead>\n",
       "  <tbody>\n",
       "    <tr>\n",
       "      <th>0</th>\n",
       "      <td>Data/IT</td>\n",
       "      <td>481ab</td>\n",
       "      <td>Utbildningar till programmerare, spel</td>\n",
       "      <td>AI Programmer</td>\n",
       "      <td>Avslag</td>\n",
       "      <td>MYH 2024/3742</td>\n",
       "      <td>Nej</td>\n",
       "      <td>1</td>\n",
       "      <td>Västerbotten</td>\n",
       "      <td>Umeå</td>\n",
       "      <td>...</td>\n",
       "      <td>3</td>\n",
       "      <td>0</td>\n",
       "      <td>30</td>\n",
       "      <td>90</td>\n",
       "      <td>0</td>\n",
       "      <td>0</td>\n",
       "      <td>0</td>\n",
       "      <td>0</td>\n",
       "      <td>0</td>\n",
       "      <td>0</td>\n",
       "    </tr>\n",
       "    <tr>\n",
       "      <th>1</th>\n",
       "      <td>Data/IT</td>\n",
       "      <td>481ab</td>\n",
       "      <td>Utbildningar till programmerare, spel</td>\n",
       "      <td>Forsbergs, Spelutvecklare – Game Programming</td>\n",
       "      <td>Avslag</td>\n",
       "      <td>MYH 2024/4174</td>\n",
       "      <td>Nej</td>\n",
       "      <td>1</td>\n",
       "      <td>Stockholm</td>\n",
       "      <td>Stockholm</td>\n",
       "      <td>...</td>\n",
       "      <td>3</td>\n",
       "      <td>0</td>\n",
       "      <td>20</td>\n",
       "      <td>60</td>\n",
       "      <td>0</td>\n",
       "      <td>0</td>\n",
       "      <td>0</td>\n",
       "      <td>0</td>\n",
       "      <td>0</td>\n",
       "      <td>0</td>\n",
       "    </tr>\n",
       "    <tr>\n",
       "      <th>2</th>\n",
       "      <td>Data/IT</td>\n",
       "      <td>481ab</td>\n",
       "      <td>Utbildningar till programmerare, spel</td>\n",
       "      <td>Futuregames Game Programmer Specialization</td>\n",
       "      <td>Avslag</td>\n",
       "      <td>MYH 2024/3029</td>\n",
       "      <td>Ja</td>\n",
       "      <td>2</td>\n",
       "      <td>Flera kommuner</td>\n",
       "      <td>Flera kommuner</td>\n",
       "      <td>...</td>\n",
       "      <td>3</td>\n",
       "      <td>0</td>\n",
       "      <td>30</td>\n",
       "      <td>90</td>\n",
       "      <td>0</td>\n",
       "      <td>0</td>\n",
       "      <td>0</td>\n",
       "      <td>0</td>\n",
       "      <td>0</td>\n",
       "      <td>0</td>\n",
       "    </tr>\n",
       "    <tr>\n",
       "      <th>3</th>\n",
       "      <td>Data/IT</td>\n",
       "      <td>481ab</td>\n",
       "      <td>Utbildningar till programmerare, spel</td>\n",
       "      <td>Game Programmer</td>\n",
       "      <td>Avslag</td>\n",
       "      <td>MYH 2024/3425</td>\n",
       "      <td>Nej</td>\n",
       "      <td>1</td>\n",
       "      <td>Blekinge</td>\n",
       "      <td>Karlshamn</td>\n",
       "      <td>...</td>\n",
       "      <td>3</td>\n",
       "      <td>0</td>\n",
       "      <td>25</td>\n",
       "      <td>75</td>\n",
       "      <td>0</td>\n",
       "      <td>0</td>\n",
       "      <td>0</td>\n",
       "      <td>0</td>\n",
       "      <td>0</td>\n",
       "      <td>0</td>\n",
       "    </tr>\n",
       "    <tr>\n",
       "      <th>4</th>\n",
       "      <td>Data/IT</td>\n",
       "      <td>481ab</td>\n",
       "      <td>Utbildningar till programmerare, spel</td>\n",
       "      <td>Spelprogrammerare</td>\n",
       "      <td>Beviljad</td>\n",
       "      <td>MYH 2024/3852</td>\n",
       "      <td>Nej</td>\n",
       "      <td>1</td>\n",
       "      <td>Skåne</td>\n",
       "      <td>Malmö</td>\n",
       "      <td>...</td>\n",
       "      <td>4</td>\n",
       "      <td>3</td>\n",
       "      <td>35</td>\n",
       "      <td>140</td>\n",
       "      <td>35</td>\n",
       "      <td>35</td>\n",
       "      <td>35</td>\n",
       "      <td>0</td>\n",
       "      <td>0</td>\n",
       "      <td>105</td>\n",
       "    </tr>\n",
       "  </tbody>\n",
       "</table>\n",
       "<p>5 rows × 28 columns</p>\n",
       "</div>"
      ],
      "text/plain": [
       "  Utbildningsområde SUN5 inriktning                   SUN5 inriktning namn  \\\n",
       "0           Data/IT           481ab  Utbildningar till programmerare, spel   \n",
       "1           Data/IT           481ab  Utbildningar till programmerare, spel   \n",
       "2           Data/IT           481ab  Utbildningar till programmerare, spel   \n",
       "3           Data/IT           481ab  Utbildningar till programmerare, spel   \n",
       "4           Data/IT           481ab  Utbildningar till programmerare, spel   \n",
       "\n",
       "                                Utbildningsnamn    Beslut   Diarienummer  \\\n",
       "0                                 AI Programmer    Avslag  MYH 2024/3742   \n",
       "1  Forsbergs, Spelutvecklare – Game Programming    Avslag  MYH 2024/4174   \n",
       "2    Futuregames Game Programmer Specialization    Avslag  MYH 2024/3029   \n",
       "3                               Game Programmer    Avslag  MYH 2024/3425   \n",
       "4                             Spelprogrammerare  Beviljad  MYH 2024/3852   \n",
       "\n",
       "  Flera kommuner  Antal kommuner             Län          Kommun  ...  \\\n",
       "0            Nej               1    Västerbotten            Umeå  ...   \n",
       "1            Nej               1       Stockholm       Stockholm  ...   \n",
       "2             Ja               2  Flera kommuner  Flera kommuner  ...   \n",
       "3            Nej               1        Blekinge       Karlshamn  ...   \n",
       "4            Nej               1           Skåne           Malmö  ...   \n",
       "\n",
       "   Sökta utbildningsomgångar Beviljade utbildningsomgångar  \\\n",
       "0                          3                             0   \n",
       "1                          3                             0   \n",
       "2                          3                             0   \n",
       "3                          3                             0   \n",
       "4                          4                             3   \n",
       "\n",
       "   Sökta platser per utbildningsomgång Sökta platser totalt  \\\n",
       "0                                   30                   90   \n",
       "1                                   20                   60   \n",
       "2                                   30                   90   \n",
       "3                                   25                   75   \n",
       "4                                   35                  140   \n",
       "\n",
       "   Beviljade platser utbildningsomgång 1  \\\n",
       "0                                      0   \n",
       "1                                      0   \n",
       "2                                      0   \n",
       "3                                      0   \n",
       "4                                     35   \n",
       "\n",
       "  Beviljade platser utbildningsomgång 2 Beviljade platser utbildningsomgång 3  \\\n",
       "0                                     0                                     0   \n",
       "1                                     0                                     0   \n",
       "2                                     0                                     0   \n",
       "3                                     0                                     0   \n",
       "4                                    35                                    35   \n",
       "\n",
       "  Beviljade platser utbildningsomgång 4  \\\n",
       "0                                     0   \n",
       "1                                     0   \n",
       "2                                     0   \n",
       "3                                     0   \n",
       "4                                     0   \n",
       "\n",
       "   Beviljade platser utbildningsomgång 5  Beviljade platser totalt  \n",
       "0                                      0                         0  \n",
       "1                                      0                         0  \n",
       "2                                      0                         0  \n",
       "3                                      0                         0  \n",
       "4                                      0                       105  \n",
       "\n",
       "[5 rows x 28 columns]"
      ]
     },
     "execution_count": 15,
     "metadata": {},
     "output_type": "execute_result"
    }
   ],
   "source": [
    "import pandas as pd\n",
    "import duckdb\n",
    "\n",
    "df = pd.read_excel(\n",
    "    \"data/resultat-ansokningsomgang-2024.xlsx\", sheet_name=\"Tabell 3\", skiprows=5\n",
    ")\n",
    "df.head() "
   ]
  },
  {
   "cell_type": "code",
   "execution_count": 16,
   "id": "8e8254e5",
   "metadata": {},
   "outputs": [
    {
     "data": {
      "text/plain": [
       "(np.int64(344), np.int64(1272))"
      ]
     },
     "execution_count": 16,
     "metadata": {},
     "output_type": "execute_result"
    }
   ],
   "source": [
    "decisions = df[\"Beslut\"].value_counts()\n",
    "approved, total = decisions[\"Beviljad\"], decisions.sum()\n",
    "approved, total"
   ]
  },
  {
   "cell_type": "code",
   "execution_count": 19,
   "id": "e47cfde6",
   "metadata": {},
   "outputs": [
    {
     "data": {
      "text/html": [
       "<div>\n",
       "<style scoped>\n",
       "    .dataframe tbody tr th:only-of-type {\n",
       "        vertical-align: middle;\n",
       "    }\n",
       "\n",
       "    .dataframe tbody tr th {\n",
       "        vertical-align: top;\n",
       "    }\n",
       "\n",
       "    .dataframe thead th {\n",
       "        text-align: right;\n",
       "    }\n",
       "</style>\n",
       "<table border=\"1\" class=\"dataframe\">\n",
       "  <thead>\n",
       "    <tr style=\"text-align: right;\">\n",
       "      <th></th>\n",
       "      <th>Län</th>\n",
       "      <th>Beviljade</th>\n",
       "    </tr>\n",
       "  </thead>\n",
       "  <tbody>\n",
       "    <tr>\n",
       "      <th>0</th>\n",
       "      <td>Stockholm</td>\n",
       "      <td>82</td>\n",
       "    </tr>\n",
       "    <tr>\n",
       "      <th>1</th>\n",
       "      <td>Västra Götaland</td>\n",
       "      <td>63</td>\n",
       "    </tr>\n",
       "    <tr>\n",
       "      <th>2</th>\n",
       "      <td>Skåne</td>\n",
       "      <td>37</td>\n",
       "    </tr>\n",
       "    <tr>\n",
       "      <th>3</th>\n",
       "      <td>Östergötland</td>\n",
       "      <td>16</td>\n",
       "    </tr>\n",
       "    <tr>\n",
       "      <th>4</th>\n",
       "      <td>Jönköping</td>\n",
       "      <td>13</td>\n",
       "    </tr>\n",
       "    <tr>\n",
       "      <th>5</th>\n",
       "      <td>Örebro</td>\n",
       "      <td>10</td>\n",
       "    </tr>\n",
       "    <tr>\n",
       "      <th>6</th>\n",
       "      <td>Västernorrland</td>\n",
       "      <td>6</td>\n",
       "    </tr>\n",
       "    <tr>\n",
       "      <th>7</th>\n",
       "      <td>Gävleborg</td>\n",
       "      <td>5</td>\n",
       "    </tr>\n",
       "    <tr>\n",
       "      <th>8</th>\n",
       "      <td>Kalmar</td>\n",
       "      <td>5</td>\n",
       "    </tr>\n",
       "    <tr>\n",
       "      <th>9</th>\n",
       "      <td>Kronoberg</td>\n",
       "      <td>5</td>\n",
       "    </tr>\n",
       "    <tr>\n",
       "      <th>10</th>\n",
       "      <td>Västmanland</td>\n",
       "      <td>5</td>\n",
       "    </tr>\n",
       "    <tr>\n",
       "      <th>11</th>\n",
       "      <td>Dalarna</td>\n",
       "      <td>4</td>\n",
       "    </tr>\n",
       "    <tr>\n",
       "      <th>12</th>\n",
       "      <td>Halland</td>\n",
       "      <td>4</td>\n",
       "    </tr>\n",
       "    <tr>\n",
       "      <th>13</th>\n",
       "      <td>Norrbotten</td>\n",
       "      <td>4</td>\n",
       "    </tr>\n",
       "    <tr>\n",
       "      <th>14</th>\n",
       "      <td>Uppsala</td>\n",
       "      <td>4</td>\n",
       "    </tr>\n",
       "    <tr>\n",
       "      <th>15</th>\n",
       "      <td>Värmland</td>\n",
       "      <td>4</td>\n",
       "    </tr>\n",
       "    <tr>\n",
       "      <th>16</th>\n",
       "      <td>Västerbotten</td>\n",
       "      <td>4</td>\n",
       "    </tr>\n",
       "    <tr>\n",
       "      <th>17</th>\n",
       "      <td>Blekinge</td>\n",
       "      <td>3</td>\n",
       "    </tr>\n",
       "    <tr>\n",
       "      <th>18</th>\n",
       "      <td>Södermanland</td>\n",
       "      <td>3</td>\n",
       "    </tr>\n",
       "    <tr>\n",
       "      <th>19</th>\n",
       "      <td>Jämtland</td>\n",
       "      <td>2</td>\n",
       "    </tr>\n",
       "  </tbody>\n",
       "</table>\n",
       "</div>"
      ],
      "text/plain": [
       "                Län  Beviljade\n",
       "0         Stockholm         82\n",
       "1   Västra Götaland         63\n",
       "2             Skåne         37\n",
       "3      Östergötland         16\n",
       "4         Jönköping         13\n",
       "5            Örebro         10\n",
       "6    Västernorrland          6\n",
       "7         Gävleborg          5\n",
       "8            Kalmar          5\n",
       "9         Kronoberg          5\n",
       "10      Västmanland          5\n",
       "11          Dalarna          4\n",
       "12          Halland          4\n",
       "13       Norrbotten          4\n",
       "14          Uppsala          4\n",
       "15         Värmland          4\n",
       "16     Västerbotten          4\n",
       "17         Blekinge          3\n",
       "18     Södermanland          3\n",
       "19         Jämtland          2"
      ]
     },
     "execution_count": 19,
     "metadata": {},
     "output_type": "execute_result"
    }
   ],
   "source": [
    "df_regions = duckdb.query(\n",
    "    \"\"\"\n",
    "    SELECT \n",
    "        län,\n",
    "        CAST(COUNT_IF(beslut = 'Beviljad') AS INTEGER) AS Beviljade\n",
    "    FROM df \n",
    "    WHERE län != 'Flera kommuner'\n",
    "    GROUP BY län\n",
    "    ORDER BY \n",
    "        beviljade DESC, län ASC\n",
    "\"\"\"\n",
    ").df()\n",
    "\n",
    "df_regions"
   ]
  },
  {
   "cell_type": "code",
   "execution_count": 20,
   "id": "0c02835e",
   "metadata": {},
   "outputs": [
    {
     "data": {
      "text/plain": [
       "array(['Stockholm', 'Västra Götaland', 'Skåne', 'Östergötland',\n",
       "       'Jönköping', 'Örebro', 'Västernorrland', 'Gävleborg', 'Kalmar',\n",
       "       'Kronoberg', 'Västmanland', 'Dalarna', 'Halland', 'Norrbotten',\n",
       "       'Uppsala', 'Värmland', 'Västerbotten', 'Blekinge', 'Södermanland',\n",
       "       'Jämtland'], dtype=object)"
      ]
     },
     "execution_count": 20,
     "metadata": {},
     "output_type": "execute_result"
    }
   ],
   "source": [
    "df_regions[\"Län\"].values"
   ]
  },
  {
   "cell_type": "code",
   "execution_count": 21,
   "id": "efc58c0b",
   "metadata": {},
   "outputs": [
    {
     "data": {
      "text/plain": [
       "{'admin_level': '4',\n",
       " 'boundary': 'administrative',\n",
       " 'name': 'Gotlands lÃ¤n',\n",
       " 'ref:se:lÃ¤n:bokstav': 'I',\n",
       " 'ref:se:lÃ¤nskod': '09',\n",
       " 'type': 'multipolygon'}"
      ]
     },
     "execution_count": 21,
     "metadata": {},
     "output_type": "execute_result"
    }
   ],
   "source": [
    "import json\n",
    "\n",
    "with open(\"assets/swedish_regions.geojson\", \"r\") as file:\n",
    "    json_data = json.load(file)\n",
    "\n",
    "\n",
    "json_data.get(\"features\")[0].get(\"properties\")"
   ]
  },
  {
   "cell_type": "code",
   "execution_count": 22,
   "id": "1ccc7703",
   "metadata": {},
   "outputs": [
    {
     "data": {
      "text/plain": [
       "{'Gotlands lÃ¤n': None,\n",
       " 'Kalmar lÃ¤n': None,\n",
       " 'Blekinge lÃ¤n': None,\n",
       " 'JÃ¤mtlands lÃ¤n': None,\n",
       " 'VÃ¤sterbottens lÃ¤n': None,\n",
       " 'Kronobergs lÃ¤n': None,\n",
       " 'VÃ¤stra GÃ¶talands lÃ¤n': None,\n",
       " 'VÃ¤rmlands lÃ¤n': None,\n",
       " 'Dalarnas lÃ¤n': None,\n",
       " 'SÃ¶dermanlands lÃ¤n': None,\n",
       " 'JÃ¶nkÃ¶pings lÃ¤n': None,\n",
       " 'Ã–stergÃ¶tlands lÃ¤n': None,\n",
       " 'Stockholms lÃ¤n': None,\n",
       " 'VÃ¤stmanlands lÃ¤n': None,\n",
       " 'Uppsala lÃ¤n': None,\n",
       " 'GÃ¤vleborgs lÃ¤n': None,\n",
       " 'VÃ¤sternorrlands lÃ¤n': None,\n",
       " 'Ã–rebro lÃ¤n': None,\n",
       " 'Norrbottens lÃ¤n': None,\n",
       " 'Hallands lÃ¤n': None,\n",
       " 'SkÃ¥ne lÃ¤n': None}"
      ]
     },
     "execution_count": 22,
     "metadata": {},
     "output_type": "execute_result"
    }
   ],
   "source": [
    "properties = [feature.get(\"properties\") for feature in json_data.get(\"features\")]\n",
    "region_codes = {\n",
    "    property.get(\"name\"): property.get(\"ref:se:länskod\") for property in properties\n",
    "}\n",
    "\n",
    "region_codes"
   ]
  },
  {
   "cell_type": "code",
   "execution_count": 23,
   "id": "712a5b81",
   "metadata": {},
   "outputs": [
    {
     "data": {
      "text/plain": [
       "['apple', 'ape']"
      ]
     },
     "execution_count": 23,
     "metadata": {},
     "output_type": "execute_result"
    }
   ],
   "source": [
    "from difflib import get_close_matches\n",
    "\n",
    "get_close_matches(\"appel\", [\"ape\", \"apple\", \"peach\", \"puppy\"])\n",
    "['apple', 'ape']"
   ]
  },
  {
   "cell_type": "code",
   "execution_count": 24,
   "id": "096d271c",
   "metadata": {},
   "outputs": [
    {
     "data": {
      "text/plain": [
       "'apple'"
      ]
     },
     "execution_count": 24,
     "metadata": {},
     "output_type": "execute_result"
    }
   ],
   "source": [
    "get_close_matches(\"appel\", [\"ape\", \"apple\", \"peach\", \"puppy\"], n = 1)[0]"
   ]
  },
  {
   "cell_type": "code",
   "execution_count": 25,
   "id": "57549377",
   "metadata": {},
   "outputs": [
    {
     "data": {
      "text/plain": [
       "'Stockholm'"
      ]
     },
     "execution_count": 25,
     "metadata": {},
     "output_type": "execute_result"
    }
   ],
   "source": [
    "df_regions[\"Län\"].iloc[0]"
   ]
  },
  {
   "cell_type": "code",
   "execution_count": 26,
   "id": "111da64b",
   "metadata": {},
   "outputs": [
    {
     "data": {
      "text/plain": [
       "'Stockholms lÃ¤n'"
      ]
     },
     "execution_count": 26,
     "metadata": {},
     "output_type": "execute_result"
    }
   ],
   "source": [
    "region = get_close_matches(df_regions[\"Län\"].iloc[0], region_codes.keys())[0]\n",
    "region"
   ]
  },
  {
   "cell_type": "code",
   "execution_count": 27,
   "id": "a17aeca8",
   "metadata": {},
   "outputs": [],
   "source": [
    "region_codes[region]"
   ]
  },
  {
   "cell_type": "code",
   "execution_count": 30,
   "id": "2d2653d5",
   "metadata": {},
   "outputs": [],
   "source": [
    "from difflib import get_close_matches\n",
    "\n",
    "region_codes_map = []\n",
    "for region in df_regions[\"Län\"]:\n",
    "    matches = get_close_matches(region, region_codes.keys(), n=1)\n",
    "    if matches:  # Kolla om det finns några matchningar\n",
    "        region_name = matches[0]\n",
    "        code = region_codes[region_name]\n",
    "        region_codes_map.append(code)\n",
    "    else:\n",
    "        # Om ingen matchning hittades, kan du antingen lägga till ett standardvärde eller hoppa över\n",
    "        region_codes_map.append(None)  # Eller något annat standardvärde\n"
   ]
  },
  {
   "cell_type": "markdown",
   "id": "30da8ef4",
   "metadata": {},
   "source": [
    "## Draw map"
   ]
  },
  {
   "cell_type": "code",
   "execution_count": 31,
   "id": "9b7c9e48",
   "metadata": {},
   "outputs": [
    {
     "data": {
      "text/plain": [
       "array([4.41884061, 4.15888308, 3.63758616, 2.83321334, 2.63905733,\n",
       "       2.39789527, 1.94591015, 1.79175947, 1.79175947, 1.79175947,\n",
       "       1.79175947, 1.60943791, 1.60943791, 1.60943791, 1.60943791,\n",
       "       1.60943791, 1.60943791, 1.38629436, 1.38629436, 1.09861229])"
      ]
     },
     "execution_count": 31,
     "metadata": {},
     "output_type": "execute_result"
    }
   ],
   "source": [
    "import numpy as np \n",
    "\n",
    "log_approved = np.log(df_regions[\"Beviljade\"] + 1)\n",
    "log_approved.values"
   ]
  },
  {
   "cell_type": "code",
   "execution_count": null,
   "id": "14f3b9e9",
   "metadata": {},
   "outputs": [],
   "source": [
    "import plotly.graph_objects as go\n",
    "\n",
    "fig = go.Figure(\n",
    "    go.Choroplethmapbox(\n",
    "        geojson=json_data,\n",
    "        locations=region_codes_map,\n",
    "        z=log_approved,\n",
    "        featureidkey=\"properties.ref:se:länskod\",\n",
    "        colorscale=\"Blues\",\n",
    "        showscale=False,\n",
    "        customdata=df_regions[\"Beviljade\"],\n",
    "        text=df_regions[\"Län\"],\n",
    "        hovertemplate=\"<b>%{text}</b><br>Beviljade utbildningar %{customdata}<extra></extra>\",\n",
    "        marker_line_width=0.3,\n",
    "    )\n",
    ")\n",
    "\n",
    "fig.update_layout(\n",
    "    mapbox=dict(style=\"white-bg\", zoom=3.3, center=dict(lat=62.6952, lon=13.9149)),\n",
    "    width=470,\n",
    "    height=500,\n",
    "    margin=dict(r=0, t=50, l=0, b=0),\n",
    "    title=dict(\n",
    "        text=f\"\"\"\n",
    "                <b>Antal beviljade</b>\n",
    "                <br>utbildningar per län\n",
    "                <br>inom YH i Sverige för \n",
    "                <br>omgång 2024. Ju mörkare \n",
    "                <br>blå färg, desto fler\n",
    "                <br>beviljade utbildningar\n",
    "                <br>\n",
    "                <br><b>{approved}</b> av totalt <b>{total}</b>\n",
    "                <br>ansökningar har\n",
    "                <br>godkänts, vilket innebär \n",
    "                <br><b>{approved/total*100:.0f}%</b> beviljandegrad\n",
    "                <br>\n",
    "                <br><b>I ledningen är</b>\n",
    "                <br>1. Stockholm, \n",
    "                <br>2. Västra Götaland\n",
    "                <br>3. Skåne\"\"\",\n",
    "        x=0.06,\n",
    "        y=0.75,\n",
    "        font=dict(size=13),\n",
    "    ),\n",
    ")\n",
    "\n",
    "\n",
    "fig.show()"
   ]
  },
  {
   "cell_type": "markdown",
   "id": "28fa523a",
   "metadata": {},
   "source": [
    "## Exercise for reader\n",
    "\n",
    "1. filter on different education areas \n",
    "2. approved educations on municipality level"
   ]
  }
 ],
 "metadata": {
  "kernelspec": {
   "display_name": ".venv",
   "language": "python",
   "name": "python3"
  },
  "language_info": {
   "codemirror_mode": {
    "name": "ipython",
    "version": 3
   },
   "file_extension": ".py",
   "mimetype": "text/x-python",
   "name": "python",
   "nbconvert_exporter": "python",
   "pygments_lexer": "ipython3",
   "version": "3.13.2"
  }
 },
 "nbformat": 4,
 "nbformat_minor": 5
}
