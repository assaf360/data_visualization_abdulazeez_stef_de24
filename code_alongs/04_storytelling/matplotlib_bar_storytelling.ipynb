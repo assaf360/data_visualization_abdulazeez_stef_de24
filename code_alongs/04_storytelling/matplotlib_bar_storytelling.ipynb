{
 "cells": [
  {
   "cell_type": "markdown",
   "id": "c0fcbd38",
   "metadata": {},
   "source": [
    "# Matplotlib bar chart storytelling"
   ]
  },
  {
   "cell_type": "code",
   "execution_count": null,
   "id": "342f2b38",
   "metadata": {},
   "outputs": [],
   "source": []
  }
 ],
 "metadata": {
  "kernelspec": {
   "display_name": ".venv",
   "language": "python",
   "name": "python3"
  },
  "language_info": {
   "name": "python",
   "version": "3.13.2"
  }
 },
 "nbformat": 4,
 "nbformat_minor": 5
}
